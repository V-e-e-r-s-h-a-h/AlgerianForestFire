{
  "nbformat": 4,
  "nbformat_minor": 0,
  "metadata": {
    "colab": {
      "provenance": []
    },
    "kernelspec": {
      "name": "python3",
      "display_name": "Python 3"
    },
    "language_info": {
      "name": "python"
    }
  },
  "cells": [
    {
      "cell_type": "code",
      "execution_count": 1,
      "metadata": {
        "id": "qhspUhp6Is65"
      },
      "outputs": [],
      "source": [
        "import pandas as pd\n",
        "import numpy as np\n",
        "import pickle"
      ]
    },
    {
      "cell_type": "code",
      "source": [
        "# Define the size of the dataset\n",
        "num_samples = 5"
      ],
      "metadata": {
        "id": "PqTsu7xiKeYx"
      },
      "execution_count": 2,
      "outputs": []
    },
    {
      "cell_type": "code",
      "source": [
        "# Generate random data\n",
        "Temperature = np.random.randint(20, 40, size=num_samples)\n",
        "RH = np.random.randint(50, 90, size=num_samples)\n",
        "Ws = np.random.randint(10, 30, size=num_samples)\n",
        "Rain = np.random.uniform(0, 15, size=num_samples)\n",
        "FFMC = np.random.uniform(40, 90, size=num_samples)\n",
        "DMC = np.random.uniform(1, 20, size=num_samples)\n",
        "DC = np.random.uniform(5, 50, size=num_samples)\n",
        "ISI = np.random.uniform(0, 5, size=num_samples)\n",
        "BUI = np.random.uniform(1, 20, size=num_samples)\n",
        "FWI = np.random.uniform(0, 5, size=num_samples)\n",
        "Region = np.random.randint(0, 2, size=num_samples)\n",
        "Classes_encoded = np.random.randint(0, 2, size=num_samples)\n"
      ],
      "metadata": {
        "id": "T_oUe0bbKlo-"
      },
      "execution_count": 3,
      "outputs": []
    },
    {
      "cell_type": "code",
      "source": [
        "# Create a DataFrame\n",
        "df = pd.DataFrame({\n",
        "    'Temperature': Temperature,\n",
        "    'RH': RH,\n",
        "    'Ws': Ws,\n",
        "    'Rain': Rain,\n",
        "    'FFMC': FFMC,\n",
        "    'DMC': DMC,\n",
        "    'DC': DC,\n",
        "    'ISI': ISI,\n",
        "    'BUI': BUI,\n",
        "    'Region': Region,\n",
        "    'Classes_encoded': Classes_encoded\n",
        "})\n"
      ],
      "metadata": {
        "id": "tuoJtD4wKpJw"
      },
      "execution_count": 4,
      "outputs": []
    },
    {
      "cell_type": "code",
      "source": [
        "df = df.astype(float)"
      ],
      "metadata": {
        "id": "-ljr43QVK8Us"
      },
      "execution_count": 5,
      "outputs": []
    },
    {
      "cell_type": "code",
      "source": [
        "# Display the first few rows of the DataFrame\n",
        "print(df.head())"
      ],
      "metadata": {
        "colab": {
          "base_uri": "https://localhost:8080/"
        },
        "id": "hQyaYlxQLBIu",
        "outputId": "afc44558-2bd1-4568-e0bb-f97d2d696b17"
      },
      "execution_count": 6,
      "outputs": [
        {
          "output_type": "stream",
          "name": "stdout",
          "text": [
            "   Temperature    RH    Ws       Rain       FFMC        DMC         DC  \\\n",
            "0         23.0  72.0  20.0   0.310564  48.543663   1.452258  25.293690   \n",
            "1         35.0  56.0  15.0   0.514699  89.459144   6.182899  32.740210   \n",
            "2         24.0  80.0  11.0  10.330850  47.821730   9.076646  18.948139   \n",
            "3         30.0  50.0  26.0  11.962857  88.080463  18.700345  22.347455   \n",
            "4         38.0  69.0  11.0   0.751394  61.476564   8.770261  39.874255   \n",
            "\n",
            "        ISI        BUI  Region  Classes_encoded  \n",
            "0  0.414245   6.546654     0.0              1.0  \n",
            "1  0.957793   1.661945     1.0              1.0  \n",
            "2  0.418866  11.840577     0.0              1.0  \n",
            "3  2.873903   3.089287     0.0              0.0  \n",
            "4  3.342126   3.351852     1.0              1.0  \n"
          ]
        }
      ]
    },
    {
      "cell_type": "code",
      "source": [
        "scale_new_data = pickle.load(open('/content/scaler.pkl', 'rb'))\n",
        "lr_model = pickle.load(open('/content/lr_fire.pkl', 'rb'))\n"
      ],
      "metadata": {
        "id": "05xvzMH3LHSi"
      },
      "execution_count": 7,
      "outputs": []
    },
    {
      "cell_type": "code",
      "source": [
        "df_scaled = scale_new_data.transform(df)"
      ],
      "metadata": {
        "id": "YgGJrWwaMAvm"
      },
      "execution_count": 8,
      "outputs": []
    },
    {
      "cell_type": "code",
      "source": [
        "y_pred_new = lr_model.predict(df_scaled)\n",
        "y_pred_new"
      ],
      "metadata": {
        "colab": {
          "base_uri": "https://localhost:8080/"
        },
        "id": "TF3iR80bMFHp",
        "outputId": "7523633a-e531-496f-c7cd-045272f41855"
      },
      "execution_count": 9,
      "outputs": [
        {
          "output_type": "execute_result",
          "data": {
            "text/plain": [
              "array([ 0.96172907, -2.25814198,  1.51829212, -0.70179204,  4.05461922])"
            ]
          },
          "metadata": {},
          "execution_count": 9
        }
      ]
    },
    {
      "cell_type": "code",
      "source": [],
      "metadata": {
        "id": "GgRG9FkZMKKK"
      },
      "execution_count": null,
      "outputs": []
    }
  ]
}